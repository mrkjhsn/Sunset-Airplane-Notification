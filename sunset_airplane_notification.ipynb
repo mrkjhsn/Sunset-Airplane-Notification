{
 "cells": [
  {
   "cell_type": "markdown",
   "metadata": {},
   "source": [
    "## I wanted to see more interesting airplanes, so I wrote some python and spun up a Linux box on AWS.\n",
    "\n",
    "My inspiration for this project came from a [Pycon talk](https://www.youtube.com/watch?v=bK2iPDu7RDE&ab_channel=PyConUS) by Jessica Garson.  Jessica used python to send herself a text each day to figure out if she needed to move her car based on New York City parking regulations.\n",
    "\n",
    "Since I love airplanes so much, I wanted to receive a notification around sunset with all of the interesting planes about to arrive into Phoenix Sky Harbor airport.  Since I live in a spot with a great view of the arrival flight pattern, I frequenly notice planes.  However, Phoenix doesn't have great diversity when it comes to airplanes.  The majority are Boeing 373s and Airbus A320s.  I've seen so many of these over the years, I would like my attention drawn to other interesting planes, such as an Airbus A330, or a Boeing 757, or a Boeing 747.\n",
    "\n",
    "#### To pull this off I needed to gather several pieces of information:\n",
    "1. run a once a day cron job to:\n",
    " - find the time of sunset for the current day and my current location\n",
    " - back up from sunset by 10 minutes (this is somewhat arbitrary, it just gives me a little more time to decide if any incoming planes are interesting, and coordinate some outdoor activity such as a walk to the grocery store)\n",
    "\n",
    "1. at sunset minus 10 minutes fetch all incoming flights and exclude the most common aircraft models that arrive at the PHX airport.\n",
    " \n",
    "1. send myself a text with interesting aircraft models, along with other interesting information such as the airport of origin"
   ]
  },
  {
   "cell_type": "code",
   "execution_count": 35,
   "metadata": {},
   "outputs": [],
   "source": [
    "# import libraries\n",
    "import requests\n",
    "import pandas as pd\n",
    "import datetime\n",
    "from dateutil.parser import parse\n",
    "import os\n",
    "from twilio.rest import Client\n",
    "from passwords import *"
   ]
  },
  {
   "cell_type": "markdown",
   "metadata": {},
   "source": [
    "## Find Sunset for the current day\n",
    "\n",
    "- this code gets run once a day at noon using a cron job\n",
    "- it schedules an \"at\" job to run at sunset minus 10 minutes each day"
   ]
  },
  {
   "cell_type": "code",
   "execution_count": 2,
   "metadata": {},
   "outputs": [],
   "source": [
    "# find today's date\n",
    "current_date = str(datetime.datetime.today().date())\n",
    "\n",
    "# assign variables for latitude and longitude\n",
    "scottsdale_latitude='33.4942'\n",
    "scottsdale_longitude='-111.9261'\n",
    "\n",
    "# api call\n",
    "sunset = requests.get(f'https://api.sunrise-sunset.org/json?lat={scottsdale_latitude}&lng={scottsdale_longitude}&formatted=0&date={current_date}')\n",
    "\n",
    "# extract UTC time\n",
    "sunset = sunset.json()['results']['sunset']\n",
    "\n",
    "# back up from sunset by 10 minutes\n",
    "sunset = parse(sunset) - pd.Timedelta(10, unit ='m')\n",
    "\n",
    "# add time to string and schedule \"at\" job\n",
    "sunset_job = f'echo python3 \"flight_data.py\" | at \"{str(sunset)[11:16]}\"'\n",
    "sunrise_job = f'echo python3 \"flight_data.py\" | at \"{str(sunrise)[11:16]}\"'\n",
    "\n",
    "# create \"at\" job\n",
    "os.system(sunset_job)\n",
    "os.system(sunrise_job)"
   ]
  },
  {
   "cell_type": "code",
   "execution_count": 3,
   "metadata": {},
   "outputs": [
    {
     "data": {
      "text/plain": [
       "'2021-05-09 02:06:31+00:00'"
      ]
     },
     "execution_count": 3,
     "metadata": {},
     "output_type": "execute_result"
    }
   ],
   "source": [
    "str(sunset)"
   ]
  },
  {
   "cell_type": "markdown",
   "metadata": {},
   "source": [
    "## Get Flight Data\n",
    "- this code is triggered using the above scheduled \"at\" job"
   ]
  },
  {
   "cell_type": "code",
   "execution_count": 4,
   "metadata": {},
   "outputs": [],
   "source": [
    "# read in data from website\n",
    "airport = 'KPHX'\n",
    "\n",
    "df = pd.read_html(f'https://flightaware.com/live/airport/{airport}/enroute')[2]\n",
    "\n",
    "# remove stacked column levels\n",
    "df.columns = df.columns.droplevel()\n",
    "\n",
    "# exclude uninteresting planes\n",
    "common_planes = [\n",
    "    'B73',\n",
    "    'A32',\n",
    "    'CRJ'\n",
    "]\n",
    "\n",
    "# filter out cases where no departure time or aircraft type identification is given\n",
    "df = df[~df.Type.fillna('None').str.contains('|'.join(common_planes))].dropna(subset=['Departure'])"
   ]
  },
  {
   "cell_type": "code",
   "execution_count": 34,
   "metadata": {},
   "outputs": [
    {
     "data": {
      "text/html": [
       "<div>\n",
       "<style scoped>\n",
       "    .dataframe tbody tr th:only-of-type {\n",
       "        vertical-align: middle;\n",
       "    }\n",
       "\n",
       "    .dataframe tbody tr th {\n",
       "        vertical-align: top;\n",
       "    }\n",
       "\n",
       "    .dataframe thead th {\n",
       "        text-align: right;\n",
       "    }\n",
       "</style>\n",
       "<table border=\"1\" class=\"dataframe\">\n",
       "  <thead>\n",
       "    <tr style=\"text-align: right;\">\n",
       "      <th></th>\n",
       "      <th>Ident</th>\n",
       "      <th>Type</th>\n",
       "      <th>Origin</th>\n",
       "      <th>ScheduledDeparture Time</th>\n",
       "      <th>Departure</th>\n",
       "      <th>EstimatedArrival Time</th>\n",
       "      <th>Unnamed: 6_level_1</th>\n",
       "      <th>Unnamed: 7_level_1</th>\n",
       "    </tr>\n",
       "  </thead>\n",
       "  <tbody>\n",
       "    <tr>\n",
       "      <th>2</th>\n",
       "      <td>AAL2059</td>\n",
       "      <td>A319</td>\n",
       "      <td>San Jose Int'l (KSJC)</td>\n",
       "      <td>Sat 02:19PM PDT</td>\n",
       "      <td>Sat 02:14PM PDT</td>\n",
       "      <td>Sat 03:38PM MST</td>\n",
       "      <td>NaN</td>\n",
       "      <td>NaN</td>\n",
       "    </tr>\n",
       "    <tr>\n",
       "      <th>4</th>\n",
       "      <td>AAL504</td>\n",
       "      <td>A319</td>\n",
       "      <td>Salt Lake City Intl (KSLC)</td>\n",
       "      <td>Sat 03:19PM MDT</td>\n",
       "      <td>Sat 03:28PM MDT</td>\n",
       "      <td>Sat 03:40PM MST</td>\n",
       "      <td>NaN</td>\n",
       "      <td>NaN</td>\n",
       "    </tr>\n",
       "    <tr>\n",
       "      <th>7</th>\n",
       "      <td>AAL2725</td>\n",
       "      <td>A21N</td>\n",
       "      <td>Reno/Tahoe Intl (KRNO)</td>\n",
       "      <td>Sat 02:19PM PDT</td>\n",
       "      <td>Sat 02:14PM PDT</td>\n",
       "      <td>Sat 03:42PM MST</td>\n",
       "      <td>NaN</td>\n",
       "      <td>NaN</td>\n",
       "    </tr>\n",
       "    <tr>\n",
       "      <th>10</th>\n",
       "      <td>AAL702</td>\n",
       "      <td>A319</td>\n",
       "      <td>Tucson Intl (KTUS)</td>\n",
       "      <td>Sat 03:23PM MST</td>\n",
       "      <td>Sat 03:19PM MST</td>\n",
       "      <td>Sat 03:45PM MST</td>\n",
       "      <td>NaN</td>\n",
       "      <td>NaN</td>\n",
       "    </tr>\n",
       "    <tr>\n",
       "      <th>15</th>\n",
       "      <td>AAL1441</td>\n",
       "      <td>A319</td>\n",
       "      <td>Spokane Intl (KGEG)</td>\n",
       "      <td>Sat 01:19PM PDT</td>\n",
       "      <td>Sat 01:47PM PDT</td>\n",
       "      <td>Sat 03:48PM MST</td>\n",
       "      <td>NaN</td>\n",
       "      <td>NaN</td>\n",
       "    </tr>\n",
       "    <tr>\n",
       "      <th>16</th>\n",
       "      <td>FFT753</td>\n",
       "      <td>A20N</td>\n",
       "      <td>Denver Intl (KDEN)</td>\n",
       "      <td>Sat 03:00PM MDT</td>\n",
       "      <td>Sat 03:21PM MDT</td>\n",
       "      <td>Sat 03:49PM MST</td>\n",
       "      <td>NaN</td>\n",
       "      <td>NaN</td>\n",
       "    </tr>\n",
       "  </tbody>\n",
       "</table>\n",
       "</div>"
      ],
      "text/plain": [
       "      Ident  Type                      Origin ScheduledDeparture Time  \\\n",
       "2   AAL2059  A319       San Jose Int'l (KSJC)         Sat 02:19PM PDT   \n",
       "4    AAL504  A319  Salt Lake City Intl (KSLC)         Sat 03:19PM MDT   \n",
       "7   AAL2725  A21N      Reno/Tahoe Intl (KRNO)         Sat 02:19PM PDT   \n",
       "10   AAL702  A319          Tucson Intl (KTUS)         Sat 03:23PM MST   \n",
       "15  AAL1441  A319         Spokane Intl (KGEG)         Sat 01:19PM PDT   \n",
       "16   FFT753  A20N          Denver Intl (KDEN)         Sat 03:00PM MDT   \n",
       "\n",
       "          Departure EstimatedArrival Time  Unnamed: 6_level_1  \\\n",
       "2   Sat 02:14PM PDT       Sat 03:38PM MST                 NaN   \n",
       "4   Sat 03:28PM MDT       Sat 03:40PM MST                 NaN   \n",
       "7   Sat 02:14PM PDT       Sat 03:42PM MST                 NaN   \n",
       "10  Sat 03:19PM MST       Sat 03:45PM MST                 NaN   \n",
       "15  Sat 01:47PM PDT       Sat 03:48PM MST                 NaN   \n",
       "16  Sat 03:21PM MDT       Sat 03:49PM MST                 NaN   \n",
       "\n",
       "    Unnamed: 7_level_1  \n",
       "2                  NaN  \n",
       "4                  NaN  \n",
       "7                  NaN  \n",
       "10                 NaN  \n",
       "15                 NaN  \n",
       "16                 NaN  "
      ]
     },
     "execution_count": 34,
     "metadata": {},
     "output_type": "execute_result"
    }
   ],
   "source": [
    "df"
   ]
  },
  {
   "cell_type": "markdown",
   "metadata": {},
   "source": [
    "## Send myself a text\n",
    "- using a Twilio free trial account I send flights in the above dataframe to myself as a text\n",
    "- to keep the text messages more concise, I have limited the message to only include:\n",
    " - aircraft type\n",
    " - estimated arrival time\n",
    " - 4 digit origin airport code"
   ]
  },
  {
   "cell_type": "code",
   "execution_count": 32,
   "metadata": {},
   "outputs": [],
   "source": [
    "# format flight data into text message\n",
    "msg = '\\n'.join(df['Type'] + ' - ' + \n",
    "                df['EstimatedArrival Time'].str.slice(start=4, stop=11) + ' - ' + \n",
    "                df.Origin.str.slice(start=-5, stop=-1))\n",
    "\n",
    "# establish twilio credentials\n",
    "client = Client(TWILIO_ACCOUNT_SID, TWILIO_AUTH_TOKEN)\n",
    "\n",
    "# send text message\n",
    "client.api.account.messages.create(\n",
    "    to=MY_PHONE_NUMBER,\n",
    "    from_=TWILIO_PHONE_NUMBER,\n",
    "    body=msg);"
   ]
  },
  {
   "cell_type": "code",
   "execution_count": 33,
   "metadata": {},
   "outputs": [
    {
     "data": {
      "text/plain": [
       "'A319 - 03:38PM - KSJC\\nA319 - 03:40PM - KSLC\\nA21N - 03:42PM - KRNO\\nA319 - 03:45PM - KTUS\\nA319 - 03:48PM - KGEG\\nA20N - 03:49PM - KDEN'"
      ]
     },
     "execution_count": 33,
     "metadata": {},
     "output_type": "execute_result"
    }
   ],
   "source": [
    "# example message string\n",
    "msg"
   ]
  },
  {
   "cell_type": "code",
   "execution_count": null,
   "metadata": {},
   "outputs": [],
   "source": []
  },
  {
   "cell_type": "markdown",
   "metadata": {},
   "source": [
    "## Next things to consider\n",
    "\n",
    "1. run a cron job at regular intervals to aggregate flight data over time (maybe a sqlite db?)\n",
    "1. mine historical data to determine which aircraft types are the most rare\n",
    "1. send myself ad hoc texts based on especially rare arrivals\n",
    "1. is there a way to find especially interesting planes based on tail number (Ident), such as Airforce 1? I could place them on a list and get an ad hoc text when one of these planes arrive"
   ]
  }
 ],
 "metadata": {
  "kernelspec": {
   "display_name": "Python 3",
   "language": "python",
   "name": "python3"
  },
  "language_info": {
   "codemirror_mode": {
    "name": "ipython",
    "version": 3
   },
   "file_extension": ".py",
   "mimetype": "text/x-python",
   "name": "python",
   "nbconvert_exporter": "python",
   "pygments_lexer": "ipython3",
   "version": "3.7.3"
  }
 },
 "nbformat": 4,
 "nbformat_minor": 4
}
